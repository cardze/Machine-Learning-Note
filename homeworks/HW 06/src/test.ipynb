{
 "cells": [
  {
   "cell_type": "code",
   "execution_count": 1,
   "metadata": {},
   "outputs": [],
   "source": [
    "import numpy as np\n",
    "from sklearn.datasets import load_iris\n",
    "from sklearn.model_selection import train_test_split\n",
    "\n",
    "def perceptron_learning(X, y, learning_rate, epochs):\n",
    "    n_samples, n_features = X.shape\n",
    "    weights = np.zeros(n_features)\n",
    "    bias = 0\n",
    "    accuracy_list = []\n",
    "\n",
    "    for _ in range(epochs):\n",
    "        errors = 0\n",
    "\n",
    "        for i in range(n_samples):\n",
    "            x = X[i]\n",
    "            y_true = y[i]\n",
    "            y_pred = np.dot(weights, x) + bias\n",
    "            update = learning_rate * (abs(y_pred) - y_true) / (np.abs(y_pred) + 1)\n",
    "            weights += update * x\n",
    "            bias += update\n",
    "            errors += int(update != 0.0)\n",
    "\n",
    "        accuracy = 1 - (errors / n_samples)\n",
    "        accuracy_list.append(accuracy)\n",
    "\n",
    "    return np.mean(accuracy_list)\n",
    "\n"
   ]
  },
  {
   "cell_type": "code",
   "execution_count": null,
   "metadata": {},
   "outputs": [],
   "source": [
    "# Load Iris dataset\n",
    "iris = load_iris()\n",
    "X = iris.data\n",
    "y = iris.target\n",
    "\n",
    "# Filter samples for classes \"virginica\" (2) and \"versicolor\" (1)\n",
    "X_filtered = X[np.logical_or(y == 1, y == 2)]\n",
    "y_filtered = y[np.logical_or(y == 1, y == 2)]\n",
    "\n",
    "# Convert class labels to binary values (-1 for versicolor, 1 for virginica)\n",
    "y_filtered = np.where(y_filtered == 1, -1, 1)\n",
    "\n",
    "learning_rate_values = [0.01, 0.1, 0.5]  # Example learning rate values to test\n",
    "num_epochs = 100  # Example number of training epochs\n",
    "\n",
    "accuracy_results = []\n",
    "\n",
    "for _ in range(10):\n",
    "    # Split the dataset into training and testing sets (70% training, 30% testing)\n",
    "    X_train, X_test, y_train, y_test = train_test_split(\n",
    "        X_filtered, y_filtered, test_size=0.3\n",
    "    )\n",
    "\n",
    "    for learning_rate in learning_rate_values:\n",
    "        accuracy = perceptron_learning(\n",
    "            X_train, y_train, learning_rate, num_epochs\n",
    "        )\n",
    "        accuracy_results.append(accuracy)\n",
    "\n",
    "average_accuracy = np.mean(accuracy_results)\n",
    "print(\"Average Accuracy:\", average_accuracy)\n"
   ]
  }
 ],
 "metadata": {
  "kernelspec": {
   "display_name": "base",
   "language": "python",
   "name": "python3"
  },
  "language_info": {
   "codemirror_mode": {
    "name": "ipython",
    "version": 3
   },
   "file_extension": ".py",
   "mimetype": "text/x-python",
   "name": "python",
   "nbconvert_exporter": "python",
   "pygments_lexer": "ipython3",
   "version": "3.9.7"
  },
  "orig_nbformat": 4
 },
 "nbformat": 4,
 "nbformat_minor": 2
}
