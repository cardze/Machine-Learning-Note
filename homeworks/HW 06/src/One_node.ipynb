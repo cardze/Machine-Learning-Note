{
 "cells": [
  {
   "cell_type": "code",
   "execution_count": 5,
   "metadata": {},
   "outputs": [
    {
     "name": "stdout",
     "output_type": "stream",
     "text": [
      "4.5397868702434395e-05\n"
     ]
    }
   ],
   "source": [
    "# first define the sigmod function for activate function\n",
    "import numpy as np\n",
    "def sig(x):\n",
    "    return 1/(1+np.exp(-x))\n",
    "\n",
    "def deri_sig(x):\n",
    "    return x*(1-x)\n",
    "\n",
    "print(sig(-10))"
   ]
  },
  {
   "cell_type": "code",
   "execution_count": 6,
   "metadata": {},
   "outputs": [],
   "source": [
    "# data init\n",
    "input_x = 1.0\n",
    "init_w = 2.0\n",
    "bias = 2.0\n",
    "mu = 0.15\n",
    "desired_out = 0.0\n"
   ]
  },
  {
   "cell_type": "code",
   "execution_count": 7,
   "metadata": {},
   "outputs": [
    {
     "name": "stdout",
     "output_type": "stream",
     "text": [
      "0.9820137900379085\n"
     ]
    }
   ],
   "source": [
    "# generate output from input\n",
    "def output_x(input_x, weight, bias):\n",
    "    return sig((input_x*weight + bias ))\n",
    "\n",
    "# cost function\n",
    "def cost(output_x, desired_out):\n",
    "    # print(0.5 * (output_x - desired_out)**2)\n",
    "    return 0.5 * (output_x - desired_out)**2\n",
    "\n",
    "def deri_cost(output_x, desired_out):\n",
    "    return (output_x - desired_out)\n",
    "\n",
    "# update weight and bias\n",
    "def update_weight(weight, cost, learning_rate, output_x, desired_out, input_x):\n",
    "    new_weight = weight - learning_rate*(input_x*deri_sig(output_x)*deri_cost(output_x, desired_out))\n",
    "    return new_weight\n",
    "\n",
    "def update_bias(weight, cost, learning_rate, output_x, desired_out):\n",
    "    new_bias = weight - learning_rate*(deri_sig(output_x)*deri_cost(output_x, desired_out))\n",
    "    return new_bias\n",
    "\n",
    "\n",
    "print(output_x(input_x, init_w, bias))"
   ]
  },
  {
   "cell_type": "code",
   "execution_count": 8,
   "metadata": {},
   "outputs": [
    {
     "data": {
      "image/png": "[encoded data removed]",
      "text/plain": [
       "<Figure size 432x288 with 1 Axes>"
      ]
     },
     "metadata": {
      "needs_background": "light"
     },
     "output_type": "display_data"
    }
   ],
   "source": [
    "# let build the graph by matplotlib\n",
    "import matplotlib.pyplot as plt\n",
    "epoch = 300\n",
    "costs = []\n",
    "weight = init_w\n",
    "for i in range(epoch):\n",
    "    output_tmp = output_x(input_x, weight, bias)\n",
    "    one_cost = cost(output_tmp, desired_out)\n",
    "    costs.append(one_cost)\n",
    "    # do update\n",
    "    weight = update_weight(weight, one_cost, mu, output_tmp, desired_out, input_x)\n",
    "    bias = update_bias(weight, one_cost, mu, output_tmp, desired_out)\n",
    "    # print(weight, bias)\n",
    "\n",
    "plt.xlabel(\"epoch\")\n",
    "plt.ylabel(\"cost\")\n",
    "plt.plot(costs)\n",
    "plt.show()\n",
    "\n"
   ]
  }
 ],
 "metadata": {
  "kernelspec": {
   "display_name": "base",
   "language": "python",
   "name": "python3"
  },
  "language_info": {
   "codemirror_mode": {
    "name": "ipython",
    "version": 3
   },
   "file_extension": ".py",
   "mimetype": "text/x-python",
   "name": "python",
   "nbconvert_exporter": "python",
   "pygments_lexer": "ipython3",
   "version": "3.9.7"
  },
  "orig_nbformat": 4
 },
 "nbformat": 4,
 "nbformat_minor": 2
}
