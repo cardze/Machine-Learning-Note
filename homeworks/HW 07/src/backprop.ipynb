{
 "cells": [
  {
   "cell_type": "code",
   "execution_count": 2,
   "metadata": {},
   "outputs": [],
   "source": [
    "# essesial import \n",
    "import math\n",
    "import numpy as np\n"
   ]
  },
  {
   "cell_type": "code",
   "execution_count": 30,
   "metadata": {},
   "outputs": [
    {
     "data": {
      "text/plain": [
       "array([1.5, 0.5])"
      ]
     },
     "execution_count": 30,
     "metadata": {},
     "output_type": "execute_result"
    }
   ],
   "source": [
    "# datas\n",
    "w = [1.0 for _ in range(6)]\n",
    "x = [ 0.5, 1.0, -0.5]\n",
    "layer_1 = np.array([w[0],w[1]])\n",
    "layer_2 = np.array([[w[2], w[3]],\n",
    "                    [w[4], w[5]]])\n",
    "layer_input = np.array([[x[0], x[1]],\n",
    "                        [x[1], x[2]]])\n",
    "\n",
    "np.matmul(layer_input, layer_1)"
   ]
  },
  {
   "cell_type": "code",
   "execution_count": 35,
   "metadata": {},
   "outputs": [
    {
     "data": {
      "text/plain": [
       "array([0.5, 0.5])"
      ]
     },
     "execution_count": 35,
     "metadata": {},
     "output_type": "execute_result"
    }
   ],
   "source": [
    "def Relu(layer, input):\n",
    "    return np.maximum(0, np.matmul(layer, input))\n",
    "\n",
    "def softMax(layer, input):\n",
    "    tmp = np.matmul(layer, input)\n",
    "    return np.exp(tmp)/sum(np.exp(tmp))\n",
    "\n",
    "softMax(layer_2, Relu(layer_1, layer_input))"
   ]
  }
 ],
 "metadata": {
  "kernelspec": {
   "display_name": "base",
   "language": "python",
   "name": "python3"
  },
  "language_info": {
   "codemirror_mode": {
    "name": "ipython",
    "version": 3
   },
   "file_extension": ".py",
   "mimetype": "text/x-python",
   "name": "python",
   "nbconvert_exporter": "python",
   "pygments_lexer": "ipython3",
   "version": "3.9.7"
  },
  "orig_nbformat": 4
 },
 "nbformat": 4,
 "nbformat_minor": 2
}
